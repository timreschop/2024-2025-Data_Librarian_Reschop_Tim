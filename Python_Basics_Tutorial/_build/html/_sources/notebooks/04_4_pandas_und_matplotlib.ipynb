{
 "metadata": {
  "kernelspec": {
   "display_name": "Python 3 (ipykernel)",
   "language": "python",
   "name": "python3"
  },
  "language_info": {
   "codemirror_mode": {
    "name": "ipython",
    "version": 3
   },
   "file_extension": ".py",
   "mimetype": "text/x-python",
   "name": "python",
   "nbconvert_exporter": "python",
   "pygments_lexer": "ipython3",
   "version": "3.12.7"
  }
 },
 "nbformat": 4,
 "nbformat_minor": 5,
 "cells": [
  {
   "cell_type": "markdown",
   "id": "689c0499-6aff-44c1-9ecb-12f5b267cadb",
   "metadata": {},
   "source": [
    "# 4. pandas und matplotlib\n",
    "\n",
    "### Da wir nun die beiden Bibliotheken importiert haben, können wir mit ihnen arbeiten. Mit **pandas** kann man Daten in eine tabellarische Form, einen sog. **DataFrame** umwandeln und analysieren und anschließend mit **matplotlib** visualisieren.\n",
    "\n",
    "### Beispielhaft könnte das so aussehen:"
   ]
  },
  {
   "cell_type": "code",
   "execution_count": 45,
   "id": "6b39f204-92db-4d40-9683-13ba21f0b89c",
   "metadata": {},
   "outputs": [
    {
     "data": {
      "text/html": [
       "<div>\n",
       "<style scoped>\n",
       "    .dataframe tbody tr th:only-of-type {\n",
       "        vertical-align: middle;\n",
       "    }\n",
       "\n",
       "    .dataframe tbody tr th {\n",
       "        vertical-align: top;\n",
       "    }\n",
       "\n",
       "    .dataframe thead th {\n",
       "        text-align: right;\n",
       "    }\n",
       "</style>\n",
       "<table border=\"1\" class=\"dataframe\">\n",
       "  <thead>\n",
       "    <tr style=\"text-align: right;\">\n",
       "      <th></th>\n",
       "      <th>Name</th>\n",
       "      <th>Alter</th>\n",
       "      <th>Hobby</th>\n",
       "    </tr>\n",
       "  </thead>\n",
       "  <tbody>\n",
       "    <tr>\n",
       "      <th>0</th>\n",
       "      <td>Alex</td>\n",
       "      <td>24</td>\n",
       "      <td>Gaming</td>\n",
       "    </tr>\n",
       "    <tr>\n",
       "      <th>1</th>\n",
       "      <td>Giselle</td>\n",
       "      <td>23</td>\n",
       "      <td>Fußball</td>\n",
       "    </tr>\n",
       "    <tr>\n",
       "      <th>2</th>\n",
       "      <td>Can</td>\n",
       "      <td>26</td>\n",
       "      <td>Fußball</td>\n",
       "    </tr>\n",
       "    <tr>\n",
       "      <th>3</th>\n",
       "      <td>Amber</td>\n",
       "      <td>21</td>\n",
       "      <td>Singen</td>\n",
       "    </tr>\n",
       "    <tr>\n",
       "      <th>4</th>\n",
       "      <td>Friedrich</td>\n",
       "      <td>29</td>\n",
       "      <td>Lesen</td>\n",
       "    </tr>\n",
       "  </tbody>\n",
       "</table>\n",
       "</div>"
      ],
      "text/plain": [
       "        Name  Alter    Hobby\n",
       "0       Alex     24   Gaming\n",
       "1    Giselle     23  Fußball\n",
       "2        Can     26  Fußball\n",
       "3      Amber     21   Singen\n",
       "4  Friedrich     29    Lesen"
      ]
     },
     "execution_count": 45,
     "metadata": {},
     "output_type": "execute_result"
    }
   ],
   "source": [
    "#Zunächst erstellen wir drei Listen mit gleich vielen Elementen - eine für Namen, eine für Alter und eine für Hobbies\n",
    "#Jede Position in den Listen gehört logisch zusammen (z.B. Name, Alter und Hobby einer bestimmten Person)\n",
    "#Der Einfachheit halber verwenden wir die Listen, die wir bereits erstellt haben:\n",
    "\n",
    "names = [\"Alex\", \"Giselle\", \"Can\", \"Amber\", \"Friedrich\"] \n",
    "age = [24, 23, 26, 21, 29] \n",
    "hobby = [\"Gaming\", \"Fußball\", \"Fußball\", \"Singen\", \"Lesen\"]\n",
    "\n",
    "#Nun bündeln wir die Listen in einem Dictionary - erstellen also Schlüssel-Wert-Paare. D.h. unser Dictionary besteht aus mehreren Listen,\n",
    "#denen ein Schlüssel zugeordnet wird:\n",
    "data = {\"Name\": names, \"Alter\": age, \"Hobby\": hobby}\n",
    "\n",
    "#Jetzt können wir mit pandas einen DataFrane ersellen - eine tabellarische Struktur (ähnlich wie Excel)\n",
    "#Die Spalten ergeben sich dabei aus den Schlüssel-Wert-Paaren:\n",
    "df = pd.DataFrame(data)\n",
    "\n",
    "#Jetzt lassen wir uns den DataFrame (df) ausgeben, das geht mit print(df) oder einfach mit \"df\"\n",
    "df"
   ]
  },
  {
   "cell_type": "markdown",
   "id": "20ae3823-cd2f-4bf3-906c-1aec578454bd",
   "metadata": {},
   "source": [
    "### Nun sind unsere Daten in einer sauberen tabellarischen Form unter der Variablen *df* abgespeichert\n",
    "\n",
    "###  Man könnte nun z.B. die Funktion *sort_values()* von **pandas** verwenden, um die Daten nach den Werten einer bestimmten Spalte zu sortieren. In diesem Fall nehmen wir das Alter und lassen es absteigend sortieren:"
   ]
  },
  {
   "cell_type": "code",
   "execution_count": 46,
   "id": "dd2eb37a-5b39-40e7-810e-9f263bce044b",
   "metadata": {},
   "outputs": [],
   "source": [
    "df_sorted = df.sort_values(by=\"Alter\", ascending=False)"
   ]
  },
  {
   "cell_type": "markdown",
   "id": "2f07c78e-2793-4c87-b7b7-5b52e79ee320",
   "metadata": {},
   "source": [
    "### *by=\"Alter\"* gibt an, aus welcher Spalte die Werte zur Sortierung entnommen werden sollen, *ascending=False* kehrt die Sortierung (ascending - aufsteigend) um, sodass das Alter absteigend sortiert wird. *ascending=True* würde die Werte aufsteigend sortieren. mit der Erstellung der neuen Variable *df_sorted* haben wir einen neuen DataFrame erstellt. Hätten wir einfach wieder die Variable *df* verwendet, hätten wir unseren ersten DataFrame überschrieben. Es ist wichtig, das im Hinterkopf zu behalten, um den ursprünglichen **DataFrame** oder bestimmte berarbeitete **DataFrames** zu erhalten, sofern das relevant für die eigene Datenverarbeitung ist. Unser neuer **DataFrame** sieht nun so aus:"
   ]
  },
  {
   "cell_type": "code",
   "execution_count": 47,
   "id": "f0b00b39-da92-41ff-98f0-5b8f9628b1b0",
   "metadata": {},
   "outputs": [
    {
     "data": {
      "text/html": [
       "<div>\n",
       "<style scoped>\n",
       "    .dataframe tbody tr th:only-of-type {\n",
       "        vertical-align: middle;\n",
       "    }\n",
       "\n",
       "    .dataframe tbody tr th {\n",
       "        vertical-align: top;\n",
       "    }\n",
       "\n",
       "    .dataframe thead th {\n",
       "        text-align: right;\n",
       "    }\n",
       "</style>\n",
       "<table border=\"1\" class=\"dataframe\">\n",
       "  <thead>\n",
       "    <tr style=\"text-align: right;\">\n",
       "      <th></th>\n",
       "      <th>Name</th>\n",
       "      <th>Alter</th>\n",
       "      <th>Hobby</th>\n",
       "    </tr>\n",
       "  </thead>\n",
       "  <tbody>\n",
       "    <tr>\n",
       "      <th>4</th>\n",
       "      <td>Friedrich</td>\n",
       "      <td>29</td>\n",
       "      <td>Lesen</td>\n",
       "    </tr>\n",
       "    <tr>\n",
       "      <th>2</th>\n",
       "      <td>Can</td>\n",
       "      <td>26</td>\n",
       "      <td>Fußball</td>\n",
       "    </tr>\n",
       "    <tr>\n",
       "      <th>0</th>\n",
       "      <td>Alex</td>\n",
       "      <td>24</td>\n",
       "      <td>Gaming</td>\n",
       "    </tr>\n",
       "    <tr>\n",
       "      <th>1</th>\n",
       "      <td>Giselle</td>\n",
       "      <td>23</td>\n",
       "      <td>Fußball</td>\n",
       "    </tr>\n",
       "    <tr>\n",
       "      <th>3</th>\n",
       "      <td>Amber</td>\n",
       "      <td>21</td>\n",
       "      <td>Singen</td>\n",
       "    </tr>\n",
       "  </tbody>\n",
       "</table>\n",
       "</div>"
      ],
      "text/plain": [
       "        Name  Alter    Hobby\n",
       "4  Friedrich     29    Lesen\n",
       "2        Can     26  Fußball\n",
       "0       Alex     24   Gaming\n",
       "1    Giselle     23  Fußball\n",
       "3      Amber     21   Singen"
      ]
     },
     "execution_count": 47,
     "metadata": {},
     "output_type": "execute_result"
    }
   ],
   "source": [
    "df_sorted"
   ]
  },
  {
   "cell_type": "markdown",
   "id": "48d7b65d-c29b-4529-9294-8330c624418a",
   "metadata": {},
   "source": [
    "### Wir können über pandas auch .csv- oder .xlsx-Dateien, die wir normalerweise mit Excel öffnen würden einlesen und ebenfalls in einem DataFrame darstellen lassen, um mit den Daten zu arbeiten. z.B. so:"
   ]
  },
  {
   "cell_type": "code",
   "execution_count": null,
   "id": "8a91359e-82a3-4c43-bc76-d06f2b203171",
   "metadata": {},
   "outputs": [],
   "source": [
    "df_stock =  "
   ]
  },
  {
   "cell_type": "markdown",
   "id": "a0b68636-d63c-419e-975b-1622e4efbb4f",
   "metadata": {},
   "source": [
    "### Die Datei enthält Zeitstempel und Kursveränderung einer Aktie zu bestimmten Zeitpunkten. Wenn wir bpsw. nur Daten für einen ganz bestimmten Zeitraum sehen wollen, können wir den **DataFrame** mit der Funktion *loc()* dementsprechend filtern und wieder in einen neuen **DataFrame** abspeichern:"
   ]
  }
 ]
}