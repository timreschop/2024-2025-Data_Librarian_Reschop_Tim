{
 "cells": [
  {
   "cell_type": "markdown",
   "id": "658452e3-b880-44c8-af41-bbbeda6b65ed",
   "metadata": {},
   "source": [
    "# 2. Datentypen\n",
    "\n",
    "### Im ersten Kapitel hast Du bereits *Integer-* und *String-*Variablen kennengelernt. In Python gibt es verschiedene Datentypen, die in Variablen abgespeichert werden können. *Integers* (Ganze Zahlen) und *Strings* (Zeichenfolgen in \"...\") sind nur zwei Beispiele für Datentypen, die eine Variable annehmen kann. In diesem Kapitel lernst du weitere bzw. die gängigsten Datentypen in Python kennen. "
   ]
  },
  {
   "cell_type": "markdown",
   "id": "33b3646b-004a-4561-866f-70bbc3cb1f1f",
   "metadata": {},
   "source": [
    "## **Variablentypen / Datentypen**\n",
    "\n",
    "## Numerische Datentypen\n",
    "\n",
    "### Grundsätzlich gibt es zwei wichtige numerische Datenypen: Ganzzahlen (*int*), die Du schon kennst, und Fließkommazahlen (*float*) also Dezimalzahlen. **Wichtig:** In Python ist das Dezimalzeichen ein Punkt, kein Komma.\n",
    "\n",
    "### **HINWEIS:** Du musst in Python den Datentyp beim Erstellen einer Variable nicht explizit angeben. Als dynamische Sprache erkennt Python automatisch den Datentyp der Variablen basierend auf dem zugewiesenen Wert. Das gilt für alles Datentypen, nicht nur für numerische Datentypen. Hier ein Beispiel:"
   ]
  },
  {
   "cell_type": "code",
   "execution_count": 28,
   "id": "7bbbe1da-28e8-4b9f-bf4d-b5b4bb1519f2",
   "metadata": {},
   "outputs": [
    {
     "name": "stdout",
     "output_type": "stream",
     "text": [
      "<class 'int'>\n",
      "<class 'float'>\n"
     ]
    }
   ],
   "source": [
    "x = 5\n",
    "y = 5.5\n",
    "print(type(x))\n",
    "print(type(y))"
   ]
  },
  {
   "cell_type": "markdown",
   "id": "a302af35-8028-4213-b8c4-608a099e5ba5",
   "metadata": {},
   "source": [
    "### Mit der Funktion type(...) kannst Du dir ausgeben lassen, welchen Datentyp eine Variable hat."
   ]
  },
  {
   "cell_type": "markdown",
   "id": "954cc31e-f304-4ba3-b982-dd1bab8d9bc3",
   "metadata": {},
   "source": [
    "## **Strings**\n",
    "\n",
    "### *Strings* sind Zeichenfolgen (Buchstaben, Symbole, aber auch Zahlen usw.). *Strings* werden erstellt, indem man die Zeichenfolge in einfache oder doppelte Anführungszeichen einschließt, so wie hier:"
   ]
  },
  {
   "cell_type": "code",
   "execution_count": 29,
   "id": "04db7876-8509-4755-97dc-7e6d96e0a043",
   "metadata": {},
   "outputs": [
    {
     "name": "stdout",
     "output_type": "stream",
     "text": [
      "Hello, World! <class 'str'>\n",
      "Hello, World! <class 'str'>\n"
     ]
    }
   ],
   "source": [
    "a = 'Hello, World!'\n",
    "b = \"Hello, World!\"\n",
    "\n",
    "print(a, type(a))\n",
    "print(b, type(b))"
   ]
  },
  {
   "cell_type": "markdown",
   "id": "8e7b4365-7c57-44a7-8568-fafbc2d14440",
   "metadata": {},
   "source": [
    "## **Booleans**\n",
    "\n",
    "### *Booleans* sind ein Datentyp, der nur zwei Werte annehmen kann. Entweder *True* oder *False*. Sie repräsentieren den Wahrheitswert eine Aussage. Auch diesen Datentyp kannst du mit der Funktion type(...) überprüfen:"
   ]
  },
  {
   "cell_type": "code",
   "execution_count": 30,
   "id": "e30bdfeb-bfcc-4d69-bf80-03050280add9",
   "metadata": {},
   "outputs": [
    {
     "name": "stdout",
     "output_type": "stream",
     "text": [
      "<class 'bool'>\n",
      "<class 'bool'>\n"
     ]
    }
   ],
   "source": [
    "c = True\n",
    "d = False\n",
    "print(type(c))\n",
    "print(type(d))"
   ]
  },
  {
   "cell_type": "markdown",
   "id": "1f0c8dca-727d-4264-9d8a-d6f849d94feb",
   "metadata": {},
   "source": [
    "### Booleans werden häufig in Bedingungsanweisungen (if, else) verwendet (also z.B. \"Wenn x größer ist als 4 (d.h. x > 4 = True), dann tue dies, wenn nicht (d.h. x > 4 = False), dann tue dies...). Bedingungsanweisungen sind schon eine fortgeschrittene Technik, die wir zunächst nicht betrachten."
   ]
  }
 ],
 "metadata": {
  "kernelspec": {
   "display_name": "Python 3 (ipykernel)",
   "language": "python",
   "name": "python3"
  },
  "language_info": {
   "codemirror_mode": {
    "name": "ipython",
    "version": 3
   },
   "file_extension": ".py",
   "mimetype": "text/x-python",
   "name": "python",
   "nbconvert_exporter": "python",
   "pygments_lexer": "ipython3",
   "version": "3.12.7"
  }
 },
 "nbformat": 4,
 "nbformat_minor": 5
}